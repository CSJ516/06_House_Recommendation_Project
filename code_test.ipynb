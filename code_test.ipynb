{
 "cells": [
  {
   "cell_type": "code",
   "execution_count": 3,
   "metadata": {
    "ExecuteTime": {
     "end_time": "2020-10-25T07:39:33.784549Z",
     "start_time": "2020-10-25T07:39:33.777571Z"
    }
   },
   "outputs": [],
   "source": [
    "import os\n",
    "os.environ['DJANGO_SETTINGS_MODULE'] = 'final_project.settings'\n",
    "os.environ['DJANGO_ALLOW_ASYNC_UNSAFE'] = 'true'\n",
    "\n",
    "import django\n",
    "django.setup()"
   ]
  },
  {
   "cell_type": "code",
   "execution_count": 5,
   "metadata": {
    "ExecuteTime": {
     "end_time": "2020-10-25T07:39:49.895302Z",
     "start_time": "2020-10-25T07:39:49.890320Z"
    }
   },
   "outputs": [],
   "source": [
    "from house.models import Officetels, OneTwoRoom, Villa, Speed, Cafe, Convenience, Culture, Daiso, Fastfood, Health, Hospital, Laundry, Market\n"
   ]
  },
  {
   "cell_type": "code",
   "execution_count": null,
   "metadata": {},
   "outputs": [],
   "source": [
    "solution('officetels', '전세','10000','0','0.24069938698647905',['37.5901684571627', '127.05156387144'])"
   ]
  },
  {
   "cell_type": "code",
   "execution_count": 19,
   "metadata": {
    "ExecuteTime": {
     "end_time": "2020-10-22T01:57:17.128151Z",
     "start_time": "2020-10-22T01:57:17.121163Z"
    }
   },
   "outputs": [],
   "source": [
    "input_rent = '전세'\n",
    "input_deposit = '10000'\n",
    "input_pay = 0\n",
    "job = ['37.5901684571627', '127.05156387144']\n",
    "con_0 = 'fast_num'\n",
    "con_1 = 'mart_num'\n",
    "con_2 = 'cafe_num'\n",
    "gu = '0.24069938698647905'\n",
    "table = 'Officetels'\n",
    "stand_0 = 2\n",
    "stand_1 = 2\n",
    "stand_2 = 3\n",
    "aa = table"
   ]
  },
  {
   "cell_type": "code",
   "execution_count": 119,
   "metadata": {
    "ExecuteTime": {
     "end_time": "2020-10-22T06:03:51.303558Z",
     "start_time": "2020-10-22T06:03:50.962472Z"
    }
   },
   "outputs": [],
   "source": [
    "    import psycopg2\n",
    "    import requests\n",
    "    from urllib.parse import urlparse"
   ]
  },
  {
   "cell_type": "code",
   "execution_count": 131,
   "metadata": {
    "ExecuteTime": {
     "end_time": "2020-10-22T06:06:37.412621Z",
     "start_time": "2020-10-22T06:06:37.379709Z"
    }
   },
   "outputs": [],
   "source": [
    "def latlon(address):\n",
    "    conn_string = \"host='localhost' dbname ='house' user='postgres' password='1111'\"\n",
    "    conn = psycopg2.connect(conn_string)\n",
    "    cur = conn.cursor()\n",
    "\n",
    "    gu = address.split(' ')[1]\n",
    "    cur.execute(f\"SELECT speed FROM SPEED \\\n",
    "            WHERE area='{gu}'\") #직장이 속한 구의 대중교통 km/분 평균속도\n",
    "\n",
    "    gu_speed = cur.fetchall()[0][0] \n",
    "\n",
    "    url = \"https://dapi.kakao.com/v2/local/search/address.json?&query=\" + address\n",
    "    result = requests.get(urlparse(url).geturl(),\n",
    "                          headers={\"Authorization\":\"KakaoAK 71dc765801a475a20aec8d82f539dd62\"})\n",
    "    json_obj = result.json()\n",
    "    global val   # 전역 변수를 지역 범위에서 사용하고 싶을 경우\n",
    "    for document in json_obj['documents']:\n",
    "        # 값이 NoneType 일 경우의 오류 방지\n",
    "        try:\n",
    "            val = [document['y'], document['x']]\n",
    "        except:\n",
    "            val = [0, 0]\n",
    "    return gu_speed, val # 직장의 위치, 직장의 위도 경도\n",
    "\n",
    "        \n",
    "def score(input_house, input_rent,input_deposit,input_con,gu, job,input_pay,table, data):\n",
    "    print('score')\n",
    "    num = len(input_con)\n",
    "    for i in range(num): # 편의시설의 개수만큼 for문 진행 \n",
    "        if input_con[i] == '병원':\n",
    "            globals()['con_{}'.format(i)] = 'hos_num'\n",
    "            globals()['stand_{}'.format(i)] = 5\n",
    "            globals()['table_con_{}'.format(i)] = 'hospital'\n",
    "        elif input_con[i] == '마트':\n",
    "            globals()['con_{}'.format(i)] = 'mart_num'\n",
    "            globals()['stand_{}'.format(i)] = 2\n",
    "            globals()['table_con_{}'.format(i)] = 'market'\n",
    "        elif input_con[i] == '패스트푸드':\n",
    "            globals()['con_{}'.format(i)] = 'fast_num'\n",
    "            globals()['stand_{}'.format(i)] = 2\n",
    "            globals()['table_con_{}'.format(i)] = 'fastfood'\n",
    "        elif input_con[i] == '카페':\n",
    "            globals()['con_{}'.format(i)] = 'cafe_num'\n",
    "            globals()['stand_{}'.format(i)] = 3\n",
    "            globals()['table_con_{}'.format(i)] = 'cafe'\n",
    "        elif input_con[i] == '문화시설':\n",
    "            globals()['con_{}'.format(i)] = 'cul_num'\n",
    "            globals()['stand_{}'.format(i)] = 5\n",
    "            globals()['table_con_{}'.format(i)] = 'culture'\n",
    "        elif input_con[i] == '편의점':\n",
    "            globals()['con_{}'.format(i)] = 'con_num'\n",
    "            globals()['stand_{}'.format(i)] = 10\n",
    "            globals()['table_con_{}'.format(i)] = 'convenience'\n",
    "        elif input_con[i] == '세탁소':\n",
    "            globals()['con_{}'.format(i)] = 'laun_num'\n",
    "            globals()['stand_{}'.format(i)] = 7\n",
    "            globals()['table_con_{}'.format(i)] = 'laundry'\n",
    "        elif input_con[i] == '다이소':\n",
    "            globals()['con_{}'.format(i)] = 'da_num'\n",
    "            globals()['stand_{}'.format(i)] = 2\n",
    "            globals()['table_con_{}'.format(i)] = 'daiso'\n",
    "        elif input_con[i] == '실내운동시설':\n",
    "            globals()['con_{}'.format(i)] = 'gym_num'\n",
    "            globals()['stand_{}'.format(i)] = 4\n",
    "            globals()['table_con_{}'.format(i)] = 'health'\n",
    "\n",
    "    print(con_1)\n",
    "    office = data.objects.raw(f\"WITH FIRST AS( \\\n",
    "                        SELECT * \\\n",
    "                        FROM \\\n",
    "                            (SELECT gid,address, rent, deposit::integer, pay::integer, latitude::float, \\\n",
    "                            longitude::float, area, criteria, recent,station_ar, transfer,\\\n",
    "                        {con_0},{con_1},{con_2}, \\\n",
    "                        (CASE WHEN {con_0} >= {stand_0} THEN 30 ELSE (30 / {stand_0} * {con_0})::float END) AS con0, \\\n",
    "                        (CASE WHEN {con_1} >= {stand_1} THEN 30 ELSE (30 / {stand_1} * {con_1})::float END) AS con1, \\\n",
    "                        (CASE WHEN {con_2} >= {stand_2} THEN 30 ELSE (30 / {stand_2} * {con_2})::float END) AS con2,  \\\n",
    "                        (CASE WHEN station_ar = 2 THEN 50 \\\n",
    "                                WHEN station_ar = 1 THEN 30 ELSE 10 END) as st1,\\\n",
    "                        (CASE WHEN transfer = 1 THEN 50 ELSE 10 END) as st2, \\\n",
    "                        ST_Distance(geography(ST_MakePoint(longitude, latitude)),  \\\n",
    "                            geography(ST_MakePoint('{job[1]}', '{job[0]}')))/1000 as km \\\n",
    "                            FROM {table} \\\n",
    "                            WHERE rent='{input_rent}' and deposit <= '{input_deposit}' \\\n",
    "                            and pay <= '{input_pay}' and recent = 1) as r) \\\n",
    "                        SELECT gid,address, rent, deposit, pay, latitude, longitude, criteria, km/{gu} as distance,\\\n",
    "                        ((con0 + con1 + con2 + 10)/10 + (st1 + st2)/20 + time/10) as score \\\n",
    "                        From (SELECT *, \\\n",
    "                                (CASE WHEN km/{gu} <= 10 THEN 100 \\\n",
    "                                    WHEN km/{gu} between 10 and 90 THEN (100 - km/{gu}) ELSE 0 END) as time\\\n",
    "                            FROM FIRST) as k \\\n",
    "                        ORDER BY score desc LIMIT 10;\")\n",
    "\n",
    "    for o in office:\n",
    "        print(o.gid,o.address, o.rent, o.deposit, o.pay, o.latitude, o.longitude, o.criteria)\n",
    "    return office\n",
    "        \n",
    "    \n",
    "def condition(input_house, input_rent,input_deposit,input_pay,input_con,address):\n",
    "    global table\n",
    "    global data\n",
    "    print('condition')\n",
    "    # 집유형에 따라 해당되는 {table} 도출\n",
    "    if input_house == '오피스텔':\n",
    "        table = 'officetels'\n",
    "        data = Officetels\n",
    "    elif input_house == '빌라':\n",
    "        table = 'villa'\n",
    "        data = Villa\n",
    "    elif input_house == '원룸/투룸':\n",
    "        table = 'one_two_room'\n",
    "        data = OneTwoRoom\n",
    "    gu, job = latlon(address)\n",
    "    return score(input_house, input_rent,input_deposit,input_con,gu, job,input_pay,table, data)\n",
    "              "
   ]
  },
  {
   "cell_type": "code",
   "execution_count": 132,
   "metadata": {
    "ExecuteTime": {
     "end_time": "2020-10-22T06:06:38.492802Z",
     "start_time": "2020-10-22T06:06:38.003114Z"
    },
    "scrolled": false
   },
   "outputs": [
    {
     "name": "stdout",
     "output_type": "stream",
     "text": [
      "condition\n",
      "score\n",
      "mart_num\n",
      "196885 서울특별시 중랑구 중화동 중랑천로14길 58 전세 10000 0 37.5945315127732 127.075917984894 37.5945315127732127.075917984894\n",
      "196881 서울특별시 중랑구 중화동 중랑천로14길 58 전세 9700 0 37.5945315127732 127.075917984894 37.5945315127732127.075917984894\n",
      "98958 서울특별시 동대문구 이문동 이문로30길 20 전세 5500 0 37.59649294590661 127.06122846748899 37.59649294590661127.06122846748899\n",
      "189834 서울특별시 종로구 숭인동 난계로29길 31 전세 1300 0 37.57400979652421 127.021480992636 37.57400979652421127.021480992636\n",
      "195931 서울특별시 중랑구 상봉동 망우로 346 전세 10000 0 37.597452478030895 127.09136963878099 37.597452478030895127.09136963878099\n",
      "194992 서울특별시 중랑구 망우동 망우로60길 37 전세 10000 0 37.5971024399369 127.094238280931 37.5971024399369127.094238280931\n",
      "194926 서울특별시 중랑구 망우동 망우로60길 37 전세 9000 0 37.5971024399369 127.094238280931 37.5971024399369127.094238280931\n",
      "194931 서울특별시 중랑구 망우동 망우로60길 37 전세 5000 0 37.5971024399369 127.094238280931 37.5971024399369127.094238280931\n",
      "93690 서울특별시 도봉구 창동 노해로69길 15-15 전세 6500 0 37.652823807117706 127.04997658903099 37.652823807117706127.04997658903099\n",
      "98968 서울특별시 동대문구 이문동 휘경로 5-5 전세 7000 0 37.596532420609606 127.061032715588 37.596532420609606127.061032715588\n"
     ]
    },
    {
     "data": {
      "text/plain": [
       "<RawQuerySet: WITH FIRST AS(                         SELECT *                         FROM                             (SELECT gid,address, rent, deposit::integer, pay::integer, latitude::float,                             longitude::float, area, criteria, recent,station_ar, transfer,                        con_num,mart_num,fast_num,                         (CASE WHEN con_num >= 10 THEN 30 ELSE (30 / 10 * con_num)::float END) AS con0,                         (CASE WHEN mart_num >= 2 THEN 30 ELSE (30 / 2 * mart_num)::float END) AS con1,                         (CASE WHEN fast_num >= 2 THEN 30 ELSE (30 / 2 * fast_num)::float END) AS con2,                          (CASE WHEN station_ar = 2 THEN 50                                 WHEN station_ar = 1 THEN 30 ELSE 10 END) as st1,                        (CASE WHEN transfer = 1 THEN 50 ELSE 10 END) as st2,                         ST_Distance(geography(ST_MakePoint(longitude, latitude)),                              geography(ST_MakePoint('127.05156387144', '37.5901684571627')))/1000 as km                             FROM officetels                             WHERE rent='전세' and deposit <= '10000'                             and pay <= '0' and recent = 1) as r)                         SELECT gid,address, rent, deposit, pay, latitude, longitude, criteria, km/0.24069938698647905 as distance,                        ((con0 + con1 + con2 + 10)/10 + (st1 + st2)/20 + time/10) as score                         From (SELECT *,                                 (CASE WHEN km/0.24069938698647905 <= 10 THEN 100                                     WHEN km/0.24069938698647905 between 10 and 90 THEN (100 - km/0.24069938698647905) ELSE 0 END) as time                            FROM FIRST) as k                         ORDER BY score desc LIMIT 10;>"
      ]
     },
     "execution_count": 132,
     "metadata": {},
     "output_type": "execute_result"
    }
   ],
   "source": [
    "condition('오피스텔', '전세','10000','0',['편의점','마트','패스트푸드'],'서울시 동대문구 이문로 1길 21')"
   ]
  },
  {
   "cell_type": "code",
   "execution_count": null,
   "metadata": {},
   "outputs": [],
   "source": []
  },
  {
   "cell_type": "code",
   "execution_count": null,
   "metadata": {},
   "outputs": [],
   "source": []
  },
  {
   "cell_type": "code",
   "execution_count": null,
   "metadata": {},
   "outputs": [],
   "source": []
  },
  {
   "cell_type": "code",
   "execution_count": 3,
   "metadata": {
    "ExecuteTime": {
     "end_time": "2020-10-23T03:13:12.094970Z",
     "start_time": "2020-10-23T03:13:12.044107Z"
    },
    "scrolled": true
   },
   "outputs": [],
   "source": [
    "class solution:\n",
    "    global gu\n",
    "    global data\n",
    "    def gu(self, address):\n",
    "        self.address = address\n",
    "        global gu\n",
    "        import psycopg2\n",
    "        import requests\n",
    "        from urllib.parse import urlparse\n",
    "        \n",
    "        conn_string = \"host='localhost' dbname ='house' user='postgres' password='1111'\"\n",
    "        conn = psycopg2.connect(conn_string)\n",
    "        cur = conn.cursor()\n",
    "        \n",
    "        gu = address.split(' ')[1]\n",
    "        cur.execute(f\"SELECT speed FROM SPEED \\\n",
    "                WHERE area='{gu}'\") #직장이 속한 구의 대중교통 km/분 평균속도\n",
    "\n",
    "        gu = cur.fetchall()[0][0] \n",
    "        return self.gu\n",
    "    \n",
    "    def latlon(self, address): # 직장의 위도 경도 계산 및 직장의 구의 속도 도출    \n",
    "        self.address = address\n",
    "        url = \"https://dapi.kakao.com/v2/local/search/address.json?&query=\" + address\n",
    "        result = requests.get(urlparse(url).geturl(),\n",
    "                              headers={\"Authorization\":\"KakaoAK 71dc765801a475a20aec8d82f539dd62\"})\n",
    "        json_obj = result.json()\n",
    "        global val   # 전역 변수를 지역 범위에서 사용하고 싶을 경우\n",
    "        \n",
    "        for document in json_obj['documents']:\n",
    "            # 값이 NoneType 일 경우의 오류 방지\n",
    "            try:\n",
    "                val = [document['y'], document['x']]\n",
    "            except:\n",
    "                val = [0, 0]\n",
    "        return self.val # 직장의 위치, 직장의 위도 경도\n",
    "    \n",
    "    def __init__(self, input_house, input_rent,input_deposit,input_con,address,input_pay=0):\n",
    "        self.input_house = input_house\n",
    "        self.input_rent = input_rent\n",
    "        self.input_deposit = input_deposit\n",
    "        self.input_pay = input_pay\n",
    "        self.input_con = input_con\n",
    "        self.address = address\n",
    "        \n",
    "    def score(self,input_house, input_rent,input_deposit,input_con,gu, job,input_pay,table, data):\n",
    "        print('score')\n",
    "        num = len(input_con)\n",
    "        for i in range(num): # 편의시설의 개수만큼 for문 진행 \n",
    "            if input_con[i] == '병원':\n",
    "                globals()['con_{}'.format(i)] = 'hos_num'\n",
    "                globals()['stand_{}'.format(i)] = 5\n",
    "                globals()['table_con_{}'.format(i)] = 'hospital'\n",
    "            elif input_con[i] == '마트':\n",
    "                globals()['con_{}'.format(i)] = 'mart_num'\n",
    "                globals()['stand_{}'.format(i)] = 2\n",
    "                globals()['table_con_{}'.format(i)] = 'market'\n",
    "            elif input_con[i] == '패스트푸드':\n",
    "                globals()['con_{}'.format(i)] = 'fast_num'\n",
    "                globals()['stand_{}'.format(i)] = 2\n",
    "                globals()['table_con_{}'.format(i)] = 'fastfood'\n",
    "            elif input_con[i] == '카페':\n",
    "                globals()['con_{}'.format(i)] = 'cafe_num'\n",
    "                globals()['stand_{}'.format(i)] = 3\n",
    "                globals()['table_con_{}'.format(i)] = 'cafe'\n",
    "            elif input_con[i] == '문화시설':\n",
    "                globals()['con_{}'.format(i)] = 'cul_num'\n",
    "                globals()['stand_{}'.format(i)] = 5\n",
    "                globals()['table_con_{}'.format(i)] = 'culture'\n",
    "            elif input_con[i] == '편의점':\n",
    "                globals()['con_{}'.format(i)] = 'con_num'\n",
    "                globals()['stand_{}'.format(i)] = 10\n",
    "                globals()['table_con_{}'.format(i)] = 'convenience'\n",
    "            elif input_con[i] == '세탁소':\n",
    "                globals()['con_{}'.format(i)] = 'laun_num'\n",
    "                globals()['stand_{}'.format(i)] = 7\n",
    "                globals()['table_con_{}'.format(i)] = 'laundry'\n",
    "            elif input_con[i] == '다이소':\n",
    "                globals()['con_{}'.format(i)] = 'da_num'\n",
    "                globals()['stand_{}'.format(i)] = 2\n",
    "                globals()['table_con_{}'.format(i)] = 'daiso'\n",
    "            elif input_con[i] == '실내운동시설':\n",
    "                globals()['con_{}'.format(i)] = 'gym_num'\n",
    "                globals()['stand_{}'.format(i)] = 4\n",
    "                globals()['table_con_{}'.format(i)] = 'health'\n",
    "        \n",
    "        print(con_1)\n",
    "        office = data.objects.raw(f\"WITH FIRST AS( \\\n",
    "                            SELECT * \\\n",
    "                            FROM \\\n",
    "                                (SELECT gid,address, rent, deposit::integer, pay::integer, latitude::float, \\\n",
    "                                longitude::float, area, criteria, recent,station_ar, transfer,\\\n",
    "                            {con_0},{con_1},{con_2}, \\\n",
    "                            (CASE WHEN {con_0} >= {stand_0} THEN 30 ELSE (30 / {stand_0} * {con_0})::float END) AS con0, \\\n",
    "                            (CASE WHEN {con_1} >= {stand_1} THEN 30 ELSE (30 / {stand_1} * {con_1})::float END) AS con1, \\\n",
    "                            (CASE WHEN {con_2} >= {stand_2} THEN 30 ELSE (30 / {stand_2} * {con_2})::float END) AS con2,  \\\n",
    "                            (CASE WHEN station_ar = 2 THEN 50 \\\n",
    "                                    WHEN station_ar = 1 THEN 30 ELSE 10 END) as st1,\\\n",
    "                            (CASE WHEN transfer = 1 THEN 50 ELSE 10 END) as st2, \\\n",
    "                            ST_Distance(geography(ST_MakePoint(longitude, latitude)),  \\\n",
    "                                geography(ST_MakePoint('{job[1]}', '{job[0]}')))/1000 as km \\\n",
    "                                FROM {table} \\\n",
    "                                WHERE rent='{input_rent}' and deposit <= '{input_deposit}' \\\n",
    "                                and pay <= '{input_pay}' and recent = 1) as r) \\\n",
    "                            SELECT gid,address, rent, deposit, pay, latitude, longitude, criteria, km/{gu} as distance,\\\n",
    "                            ((con0 + con1 + con2 + 10)/10 + (st1 + st2)/20 + time/10) as score \\\n",
    "                            From (SELECT *, \\\n",
    "                                    (CASE WHEN km/{gu} <= 10 THEN 100 \\\n",
    "                                        WHEN km/{gu} between 10 and 90 THEN (100 - km/{gu}) ELSE 0 END) as time\\\n",
    "                                FROM FIRST) as k \\\n",
    "                            ORDER BY score desc LIMIT 10;\")\n",
    "        \n",
    "        for o in office:\n",
    "            print(o.gid,o.address, o.rent, o.deposit, o.pay, o.latitude, o.longitude, o.criteria)\n",
    "        return office\n",
    "        \n",
    "    \n",
    "    def condition(self,input_house, input_rent,input_deposit,input_con,input_pay):\n",
    "        print('condition')\n",
    "        # 집유형에 따라 해당되는 {table} 도출\n",
    "        if input_house == '오피스텔':\n",
    "            table = 'officetels'\n",
    "            data = 'Officetels'\n",
    "        elif input_house == '빌라':\n",
    "            table = 'villa'\n",
    "            data = 'Villa'\n",
    "        elif input_house == '원룸/투룸':\n",
    "            table = 'one_two_room'\n",
    "            data = 'OneTwoRoom'\n",
    "        gu = gu(address)\n",
    "        job = latlon(address)\n",
    "        return score(input_house, input_rent,input_deposit,input_con,gu, job,input_pay,table, data)\n",
    "              "
   ]
  },
  {
   "cell_type": "code",
   "execution_count": 113,
   "metadata": {
    "ExecuteTime": {
     "end_time": "2020-10-22T05:57:29.353234Z",
     "start_time": "2020-10-22T05:57:29.347251Z"
    }
   },
   "outputs": [],
   "source": [
    "kk = solution('officetels', '전세','10000',['편의점','마트','패스트푸드'],'서울시 동대문구 이문로 1길 21')"
   ]
  },
  {
   "cell_type": "code",
   "execution_count": 114,
   "metadata": {
    "ExecuteTime": {
     "end_time": "2020-10-22T05:57:29.684281Z",
     "start_time": "2020-10-22T05:57:29.659346Z"
    }
   },
   "outputs": [
    {
     "name": "stdout",
     "output_type": "stream",
     "text": [
      "condition\n"
     ]
    },
    {
     "ename": "UnboundLocalError",
     "evalue": "local variable 'gu' referenced before assignment",
     "output_type": "error",
     "traceback": [
      "\u001b[1;31m---------------------------------------------------------------------------\u001b[0m",
      "\u001b[1;31mUnboundLocalError\u001b[0m                         Traceback (most recent call last)",
      "\u001b[1;32m<ipython-input-114-70dd4fa163a2>\u001b[0m in \u001b[0;36m<module>\u001b[1;34m\u001b[0m\n\u001b[1;32m----> 1\u001b[1;33m \u001b[0mkk\u001b[0m\u001b[1;33m.\u001b[0m\u001b[0mcondition\u001b[0m\u001b[1;33m(\u001b[0m\u001b[1;34m'officetels'\u001b[0m\u001b[1;33m,\u001b[0m \u001b[1;34m'전세'\u001b[0m\u001b[1;33m,\u001b[0m\u001b[1;34m'10000'\u001b[0m\u001b[1;33m,\u001b[0m\u001b[1;33m[\u001b[0m\u001b[1;34m'편의점'\u001b[0m\u001b[1;33m,\u001b[0m\u001b[1;34m'마트'\u001b[0m\u001b[1;33m,\u001b[0m\u001b[1;34m'패스트푸드'\u001b[0m\u001b[1;33m]\u001b[0m\u001b[1;33m,\u001b[0m\u001b[1;34m'서울시 동대문구 이문로 1길 21'\u001b[0m\u001b[1;33m)\u001b[0m\u001b[1;33m\u001b[0m\u001b[1;33m\u001b[0m\u001b[0m\n\u001b[0m",
      "\u001b[1;32m<ipython-input-112-001a68372469>\u001b[0m in \u001b[0;36mcondition\u001b[1;34m(self, input_house, input_rent, input_deposit, input_con, input_pay)\u001b[0m\n\u001b[0;32m    128\u001b[0m             \u001b[0mtable\u001b[0m \u001b[1;33m=\u001b[0m \u001b[1;34m'one_two_room'\u001b[0m\u001b[1;33m\u001b[0m\u001b[1;33m\u001b[0m\u001b[0m\n\u001b[0;32m    129\u001b[0m             \u001b[0mdata\u001b[0m \u001b[1;33m=\u001b[0m \u001b[1;34m'OneTwoRoom'\u001b[0m\u001b[1;33m\u001b[0m\u001b[1;33m\u001b[0m\u001b[0m\n\u001b[1;32m--> 130\u001b[1;33m         \u001b[0mgu\u001b[0m \u001b[1;33m=\u001b[0m \u001b[0mgu\u001b[0m\u001b[1;33m(\u001b[0m\u001b[0maddress\u001b[0m\u001b[1;33m)\u001b[0m\u001b[1;33m\u001b[0m\u001b[1;33m\u001b[0m\u001b[0m\n\u001b[0m\u001b[0;32m    131\u001b[0m         \u001b[0mjob\u001b[0m \u001b[1;33m=\u001b[0m \u001b[0mlatlon\u001b[0m\u001b[1;33m(\u001b[0m\u001b[0maddress\u001b[0m\u001b[1;33m)\u001b[0m\u001b[1;33m\u001b[0m\u001b[1;33m\u001b[0m\u001b[0m\n\u001b[0;32m    132\u001b[0m         \u001b[1;32mreturn\u001b[0m \u001b[0mscore\u001b[0m\u001b[1;33m(\u001b[0m\u001b[0minput_house\u001b[0m\u001b[1;33m,\u001b[0m \u001b[0minput_rent\u001b[0m\u001b[1;33m,\u001b[0m\u001b[0minput_deposit\u001b[0m\u001b[1;33m,\u001b[0m\u001b[0minput_con\u001b[0m\u001b[1;33m,\u001b[0m\u001b[0mgu\u001b[0m\u001b[1;33m,\u001b[0m \u001b[0mjob\u001b[0m\u001b[1;33m,\u001b[0m\u001b[0minput_pay\u001b[0m\u001b[1;33m,\u001b[0m\u001b[0mtable\u001b[0m\u001b[1;33m,\u001b[0m \u001b[0mdata\u001b[0m\u001b[1;33m)\u001b[0m\u001b[1;33m\u001b[0m\u001b[1;33m\u001b[0m\u001b[0m\n",
      "\u001b[1;31mUnboundLocalError\u001b[0m: local variable 'gu' referenced before assignment"
     ]
    }
   ],
   "source": [
    "kk.condition('officetels', '전세','10000',['편의점','마트','패스트푸드'],'서울시 동대문구 이문로 1길 21')"
   ]
  },
  {
   "cell_type": "code",
   "execution_count": 71,
   "metadata": {
    "ExecuteTime": {
     "end_time": "2020-10-22T05:39:41.112545Z",
     "start_time": "2020-10-22T05:39:41.107560Z"
    }
   },
   "outputs": [],
   "source": [
    "dd = solution('officetels', '전세','10000',['편의점','마트','패스트푸드'],'서울시 동대문구 이문로 1길 21')"
   ]
  },
  {
   "cell_type": "code",
   "execution_count": 72,
   "metadata": {
    "ExecuteTime": {
     "end_time": "2020-10-22T05:39:41.521013Z",
     "start_time": "2020-10-22T05:39:41.507051Z"
    }
   },
   "outputs": [
    {
     "ename": "TypeError",
     "evalue": "score() missing 9 required positional arguments: 'input_house', 'input_rent', 'input_deposit', 'input_con', 'gu', 'job', 'input_pay', 'table', and 'data'",
     "output_type": "error",
     "traceback": [
      "\u001b[1;31m---------------------------------------------------------------------------\u001b[0m",
      "\u001b[1;31mTypeError\u001b[0m                                 Traceback (most recent call last)",
      "\u001b[1;32m<ipython-input-72-5640afbda114>\u001b[0m in \u001b[0;36m<module>\u001b[1;34m\u001b[0m\n\u001b[1;32m----> 1\u001b[1;33m \u001b[0mdd\u001b[0m\u001b[1;33m.\u001b[0m\u001b[0mscore\u001b[0m\u001b[1;33m(\u001b[0m\u001b[1;33m)\u001b[0m\u001b[1;33m\u001b[0m\u001b[1;33m\u001b[0m\u001b[0m\n\u001b[0m",
      "\u001b[1;31mTypeError\u001b[0m: score() missing 9 required positional arguments: 'input_house', 'input_rent', 'input_deposit', 'input_con', 'gu', 'job', 'input_pay', 'table', and 'data'"
     ]
    }
   ],
   "source": [
    "def my_custom_sql(self):\n",
    "    cursor = connection.cursor()    \n",
    "    cursor.execute(\"select id_noga \\\n",
    "                    from myapp_Tnogahist a \\\n",
    "                    inner join myapp_Tdzien b on a.dziens=b.dziens \\\n",
    "                    where b.dzienrok = 1234\")\n",
    "    row = cursor.fetchone()\n",
    "    return row"
   ]
  },
  {
   "cell_type": "code",
   "execution_count": 4,
   "metadata": {
    "ExecuteTime": {
     "end_time": "2020-10-23T03:13:31.304844Z",
     "start_time": "2020-10-23T03:13:30.953785Z"
    }
   },
   "outputs": [],
   "source": []
  },
  {
   "cell_type": "code",
   "execution_count": 52,
   "metadata": {
    "ExecuteTime": {
     "end_time": "2020-10-22T03:45:25.055248Z",
     "start_time": "2020-10-22T03:45:25.048274Z"
    },
    "scrolled": false
   },
   "outputs": [
    {
     "data": {
      "text/plain": [
       "['gid',\n",
       " 'address',\n",
       " 'rent',\n",
       " 'deposit',\n",
       " 'pay',\n",
       " 'latitude',\n",
       " 'longitude',\n",
       " 'criteria',\n",
       " 'distance',\n",
       " 'score']"
      ]
     },
     "execution_count": 52,
     "metadata": {},
     "output_type": "execute_result"
    }
   ],
   "source": [
    "office.columns"
   ]
  },
  {
   "cell_type": "code",
   "execution_count": 6,
   "metadata": {
    "ExecuteTime": {
     "end_time": "2020-10-22T01:55:03.527951Z",
     "start_time": "2020-10-22T01:55:03.521971Z"
    },
    "scrolled": false
   },
   "outputs": [
    {
     "data": {
      "text/plain": [
       "<RawQuerySet: WITH FIRST AS(                         SELECT *                         FROM                             (SELECT gid,address, rent, deposit::integer, pay::integer, latitude::float,                             longitude::float, area, criteria, recent,station_ar, transfer,                        fast_num,mart_num,cafe_num,                         (CASE WHEN fast_num >= 2 THEN 30 ELSE (30 / 2 * fast_num)::float END) AS con0,                         (CASE WHEN mart_num >= 2 THEN 30 ELSE (30 / 2 * mart_num)::float END) AS con1,                         (CASE WHEN cafe_num >= 3 THEN 30 ELSE (30 / 3 * cafe_num)::float END) AS con2,                          (CASE WHEN station_ar = 2 THEN 50                                 WHEN station_ar = 1 THEN 30 ELSE 10 END) as st1,                        (CASE WHEN transfer = 1 THEN 50 ELSE 10 END) as st2,                         ST_Distance(geography(ST_MakePoint(longitude, latitude)),                              geography(ST_MakePoint('127.05156387144', '37.5901684571627')))/1000 as km                             FROM officetels                             WHERE rent='전세' and deposit <= '10000'                             and pay <= '0' and recent = 1) as r)                         SELECT gid,address, rent, deposit, pay, latitude, longitude, criteria, km/0.24069938698647905 as distance,                        ((con0 + con1 + con2 + 10)/10 + (st1 + st2)/20 + time/10) as score                         From (SELECT *,                                 (CASE WHEN km/0.24069938698647905 <= 10 THEN 100                                     WHEN km/0.24069938698647905 between 10 and 90 THEN (100 - km/0.24069938698647905) ELSE 0 END) as time                            FROM FIRST) as k                         ORDER BY score desc LIMIT 10;>"
      ]
     },
     "execution_count": 6,
     "metadata": {},
     "output_type": "execute_result"
    }
   ],
   "source": [
    "office"
   ]
  },
  {
   "cell_type": "code",
   "execution_count": null,
   "metadata": {},
   "outputs": [],
   "source": []
  },
  {
   "cell_type": "code",
   "execution_count": 44,
   "metadata": {
    "ExecuteTime": {
     "end_time": "2020-10-22T02:27:48.291657Z",
     "start_time": "2020-10-22T02:27:48.287665Z"
    }
   },
   "outputs": [],
   "source": [
    "ss = Speed.objects.raw(f\"SELECT criteria, con_name, con_addres, con_latitu, con_longit \\\n",
    "                    FROM {globals()['table_con_{}'.format(i)]};\")"
   ]
  },
  {
   "cell_type": "code",
   "execution_count": 48,
   "metadata": {
    "ExecuteTime": {
     "end_time": "2020-10-22T03:13:03.312398Z",
     "start_time": "2020-10-22T03:13:03.298436Z"
    }
   },
   "outputs": [
    {
     "ename": "AttributeError",
     "evalue": "'RawQuerySet' object has no attribute 'objects'",
     "output_type": "error",
     "traceback": [
      "\u001b[1;31m---------------------------------------------------------------------------\u001b[0m",
      "\u001b[1;31mAttributeError\u001b[0m                            Traceback (most recent call last)",
      "\u001b[1;32m<ipython-input-48-f2f192667afa>\u001b[0m in \u001b[0;36m<module>\u001b[1;34m\u001b[0m\n\u001b[0;32m      1\u001b[0m \u001b[0mraw_sql\u001b[0m \u001b[1;33m=\u001b[0m \u001b[1;34m\"\"\"SELECT * FROM office as \"XK\" LEFT OUTER JOIN  Cafe as \"AK\" ON \"AK\".criteria = \"XK\".criteria ;\"\"\"\u001b[0m\u001b[1;33m\u001b[0m\u001b[1;33m\u001b[0m\u001b[0m\n\u001b[1;32m----> 2\u001b[1;33m \u001b[0moffice\u001b[0m\u001b[1;33m.\u001b[0m\u001b[0mobjects\u001b[0m\u001b[1;33m.\u001b[0m\u001b[0mfilter\u001b[0m\u001b[1;33m(\u001b[0m\u001b[0mraw_sql\u001b[0m\u001b[1;33m)\u001b[0m\u001b[1;33m\u001b[0m\u001b[1;33m\u001b[0m\u001b[0m\n\u001b[0m",
      "\u001b[1;31mAttributeError\u001b[0m: 'RawQuerySet' object has no attribute 'objects'"
     ]
    }
   ],
   "source": [
    "raw_sql = \"\"\"SELECT * FROM office as \"XK\" LEFT OUTER JOIN  Cafe as \"AK\" ON \"AK\".criteria = \"XK\".criteria ;\"\"\"\n",
    "office.objects.filter(raw_sql)"
   ]
  },
  {
   "cell_type": "code",
   "execution_count": 7,
   "metadata": {
    "ExecuteTime": {
     "end_time": "2020-10-22T01:55:04.337128Z",
     "start_time": "2020-10-22T01:55:04.034936Z"
    }
   },
   "outputs": [
    {
     "name": "stdout",
     "output_type": "stream",
     "text": [
      "196885 서울특별시 중랑구 중화동 중랑천로14길 58 전세 10000 0 37.5945315127732 127.075917984894 37.5945315127732127.075917984894\n",
      "196881 서울특별시 중랑구 중화동 중랑천로14길 58 전세 9700 0 37.5945315127732 127.075917984894 37.5945315127732127.075917984894\n",
      "98958 서울특별시 동대문구 이문동 이문로30길 20 전세 5500 0 37.59649294590661 127.06122846748899 37.59649294590661127.06122846748899\n",
      "189834 서울특별시 종로구 숭인동 난계로29길 31 전세 1300 0 37.57400979652421 127.021480992636 37.57400979652421127.021480992636\n",
      "93690 서울특별시 도봉구 창동 노해로69길 15-15 전세 6500 0 37.652823807117706 127.04997658903099 37.652823807117706127.04997658903099\n",
      "195931 서울특별시 중랑구 상봉동 망우로 346 전세 10000 0 37.597452478030895 127.09136963878099 37.597452478030895127.09136963878099\n",
      "194931 서울특별시 중랑구 망우동 망우로60길 37 전세 5000 0 37.5971024399369 127.094238280931 37.5971024399369127.094238280931\n",
      "194926 서울특별시 중랑구 망우동 망우로60길 37 전세 9000 0 37.5971024399369 127.094238280931 37.5971024399369127.094238280931\n",
      "194992 서울특별시 중랑구 망우동 망우로60길 37 전세 10000 0 37.5971024399369 127.094238280931 37.5971024399369127.094238280931\n",
      "91837 서울특별시 노원구 월계동 광운로 86 전세 7000 0 37.6249628907036 127.060271498549 37.6249628907036127.060271498549\n"
     ]
    }
   ],
   "source": [
    "for o in office:\n",
    "    print(o.gid,o.address, o.rent, o.deposit, o.pay, o.latitude, o.longitude, o.criteria)"
   ]
  },
  {
   "cell_type": "code",
   "execution_count": 42,
   "metadata": {
    "ExecuteTime": {
     "end_time": "2020-10-22T02:09:52.945320Z",
     "start_time": "2020-10-22T02:09:50.383752Z"
    }
   },
   "outputs": [
    {
     "data": {
      "text/plain": [
       "(0.24069938698647905, ['37.5901684571627', '127.05156387144'])"
      ]
     },
     "execution_count": 42,
     "metadata": {},
     "output_type": "execute_result"
    }
   ],
   "source": [
    "latlon(address)"
   ]
  },
  {
   "cell_type": "code",
   "execution_count": 14,
   "metadata": {
    "ExecuteTime": {
     "end_time": "2020-10-25T07:41:42.863644Z",
     "start_time": "2020-10-25T07:41:42.859664Z"
    }
   },
   "outputs": [],
   "source": []
  },
  {
   "cell_type": "code",
   "execution_count": 15,
   "metadata": {
    "ExecuteTime": {
     "end_time": "2020-10-25T07:41:43.227821Z",
     "start_time": "2020-10-25T07:41:43.222838Z"
    }
   },
   "outputs": [],
   "source": [
    "import re"
   ]
  },
  {
   "cell_type": "code",
   "execution_count": 16,
   "metadata": {
    "ExecuteTime": {
     "end_time": "2020-10-25T07:41:44.355811Z",
     "start_time": "2020-10-25T07:41:44.348829Z"
    }
   },
   "outputs": [
    {
     "data": {
      "text/plain": [
       "[\"'병원'\", \" '마트'\", \" '패스트푸드'\"]"
      ]
     },
     "execution_count": 16,
     "metadata": {},
     "output_type": "execute_result"
    }
   ],
   "source": [
    "aa.strip(\"[]\").split(\",\")"
   ]
  },
  {
   "cell_type": "code",
   "execution_count": 13,
   "metadata": {
    "ExecuteTime": {
     "end_time": "2020-10-25T07:41:28.751482Z",
     "start_time": "2020-10-25T07:41:28.743510Z"
    }
   },
   "outputs": [
    {
     "data": {
      "text/plain": [
       "[\"'카페'\"]"
      ]
     },
     "execution_count": 13,
     "metadata": {},
     "output_type": "execute_result"
    }
   ],
   "source": [
    "import re\n",
    "ccc = \"['카페']\"\n",
    "ccc = ccc.strip('[]').split(',')\n",
    "ccc = re.findall(r'\"\\s*([^\"]*?)\\s*\"', str(ccc))\n",
    "ccc"
   ]
  },
  {
   "cell_type": "code",
   "execution_count": 32,
   "metadata": {
    "ExecuteTime": {
     "end_time": "2020-10-25T07:51:01.870418Z",
     "start_time": "2020-10-25T07:51:01.866429Z"
    }
   },
   "outputs": [],
   "source": [
    "aa = \"['카페']\""
   ]
  },
  {
   "cell_type": "code",
   "execution_count": 27,
   "metadata": {
    "ExecuteTime": {
     "end_time": "2020-10-25T07:43:10.815606Z",
     "start_time": "2020-10-25T07:43:10.806627Z"
    }
   },
   "outputs": [
    {
     "data": {
      "text/plain": [
       "'카페'"
      ]
     },
     "execution_count": 27,
     "metadata": {},
     "output_type": "execute_result"
    }
   ],
   "source": [
    "# aa = \"['병원', '마트', '패스트푸드']\"\n",
    "place = aa.strip(\"[]\").split(\",\")\n",
    "place = re.findall(r'\"\\s*([^\"]*?)\\s*\"', str(place))[0][1:-1]\n",
    "place"
   ]
  },
  {
   "cell_type": "code",
   "execution_count": 33,
   "metadata": {
    "ExecuteTime": {
     "end_time": "2020-10-25T07:51:03.637356Z",
     "start_time": "2020-10-25T07:51:03.631372Z"
    }
   },
   "outputs": [
    {
     "data": {
      "text/plain": [
       "1"
      ]
     },
     "execution_count": 33,
     "metadata": {},
     "output_type": "execute_result"
    }
   ],
   "source": [
    "place = aa.strip(\"[]\").split(\",\")\n",
    "place = re.findall(r'\"\\s*([^\"]*?)\\s*\"', str(place))\n",
    "len(place)"
   ]
  },
  {
   "cell_type": "code",
   "execution_count": 74,
   "metadata": {
    "ExecuteTime": {
     "end_time": "2020-10-25T04:48:04.096601Z",
     "start_time": "2020-10-25T04:48:04.090620Z"
    }
   },
   "outputs": [
    {
     "data": {
      "text/plain": [
       "'패스트푸드'"
      ]
     },
     "execution_count": 74,
     "metadata": {},
     "output_type": "execute_result"
    }
   ],
   "source": [
    "cc[2][1:-1]"
   ]
  },
  {
   "cell_type": "code",
   "execution_count": 19,
   "metadata": {
    "ExecuteTime": {
     "end_time": "2020-10-25T07:41:54.432995Z",
     "start_time": "2020-10-25T07:41:54.424017Z"
    }
   },
   "outputs": [
    {
     "data": {
      "text/plain": [
       "[['['],\n",
       " [\"'\"],\n",
       " ['병'],\n",
       " ['원'],\n",
       " [\"'\"],\n",
       " ['', ''],\n",
       " [' '],\n",
       " [\"'\"],\n",
       " ['마'],\n",
       " ['트'],\n",
       " [\"'\"],\n",
       " ['', ''],\n",
       " [' '],\n",
       " [\"'\"],\n",
       " ['패'],\n",
       " ['스'],\n",
       " ['트'],\n",
       " ['푸'],\n",
       " ['드'],\n",
       " [\"'\"],\n",
       " [']']]"
      ]
     },
     "execution_count": 19,
     "metadata": {},
     "output_type": "execute_result"
    }
   ],
   "source": [
    "res = [i.strip('\"\"').split(\",\") for i in aa] \n",
    "res"
   ]
  },
  {
   "cell_type": "code",
   "execution_count": 45,
   "metadata": {
    "ExecuteTime": {
     "end_time": "2020-10-25T04:38:02.692722Z",
     "start_time": "2020-10-25T04:38:02.686739Z"
    }
   },
   "outputs": [
    {
     "data": {
      "text/plain": [
       "[\"['병원',\", \"'마트',\", \"'패스트푸드']\"]"
      ]
     },
     "execution_count": 45,
     "metadata": {},
     "output_type": "execute_result"
    }
   ],
   "source": [
    "list_str = aa.split()\n",
    "list_str"
   ]
  },
  {
   "cell_type": "code",
   "execution_count": null,
   "metadata": {},
   "outputs": [],
   "source": []
  }
 ],
 "metadata": {
  "kernelspec": {
   "display_name": "Python 3",
   "language": "python",
   "name": "python3"
  },
  "language_info": {
   "codemirror_mode": {
    "name": "ipython",
    "version": 3
   },
   "file_extension": ".py",
   "mimetype": "text/x-python",
   "name": "python",
   "nbconvert_exporter": "python",
   "pygments_lexer": "ipython3",
   "version": "3.7.6"
  },
  "toc": {
   "base_numbering": 1,
   "nav_menu": {},
   "number_sections": true,
   "sideBar": true,
   "skip_h1_title": false,
   "title_cell": "Table of Contents",
   "title_sidebar": "Contents",
   "toc_cell": false,
   "toc_position": {},
   "toc_section_display": true,
   "toc_window_display": false
  },
  "varInspector": {
   "cols": {
    "lenName": 16,
    "lenType": 16,
    "lenVar": 40
   },
   "kernels_config": {
    "python": {
     "delete_cmd_postfix": "",
     "delete_cmd_prefix": "del ",
     "library": "var_list.py",
     "varRefreshCmd": "print(var_dic_list())"
    },
    "r": {
     "delete_cmd_postfix": ") ",
     "delete_cmd_prefix": "rm(",
     "library": "var_list.r",
     "varRefreshCmd": "cat(var_dic_list()) "
    }
   },
   "types_to_exclude": [
    "module",
    "function",
    "builtin_function_or_method",
    "instance",
    "_Feature"
   ],
   "window_display": false
  }
 },
 "nbformat": 4,
 "nbformat_minor": 4
}
